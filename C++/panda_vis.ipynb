{
 "cells": [
  {
   "cell_type": "code",
   "execution_count": 26,
   "metadata": {},
   "outputs": [],
   "source": [
    "import roboticstoolbox as rtb\n",
    "import numpy as np\n",
    "import swift\n",
    "import roboticstoolbox as rtb\n",
    "import spatialmath as sm\n",
    "\n",
    "robot = rtb.models.Panda()\n",
    "env = swift.Swift()\n",
    "env.launch(realtime=True)\n",
    "\n",
    "panda = rtb.models.Panda()\n",
    "panda.q = panda.qr\n",
    "\n",
    "Tep = panda.fkine(panda.q) * sm.SE3.Trans(0.2, 0.2, 0.45)\n",
    "\n",
    "arrived = False\n",
    "env.add(panda)\n",
    "\n",
    "dt = 0.01"
   ]
  },
  {
   "cell_type": "code",
   "execution_count": 27,
   "metadata": {},
   "outputs": [
    {
     "name": "stdout",
     "output_type": "stream",
     "text": [
      "(3001, 7)\n"
     ]
    },
    {
     "name": "stderr",
     "output_type": "stream",
     "text": [
      "connection handler failed\n",
      "Traceback (most recent call last):\n",
      "  File \"/home/yoonjunheon/.local/lib/python3.8/site-packages/websockets/legacy/server.py\", line 236, in handler\n",
      "    await self.ws_handler(self)\n",
      "  File \"/home/yoonjunheon/.local/lib/python3.8/site-packages/websockets/legacy/server.py\", line 1175, in _ws_handler\n",
      "    return await cast(\n",
      "  File \"/home/yoonjunheon/.local/lib/python3.8/site-packages/swift/SwiftRoute.py\", line 320, in serve\n",
      "    await self.expect_message(websocket, expected)\n",
      "  File \"/home/yoonjunheon/.local/lib/python3.8/site-packages/swift/SwiftRoute.py\", line 325, in expect_message\n",
      "    recieved = await websocket.recv()\n",
      "  File \"/home/yoonjunheon/.local/lib/python3.8/site-packages/websockets/legacy/protocol.py\", line 568, in recv\n",
      "    await self.ensure_open()\n",
      "  File \"/home/yoonjunheon/.local/lib/python3.8/site-packages/websockets/legacy/protocol.py\", line 939, in ensure_open\n",
      "    raise self.connection_closed_exc()\n",
      "websockets.exceptions.ConnectionClosedOK: received 1001 (going away); then sent 1001 (going away)\n"
     ]
    },
    {
     "ename": "KeyboardInterrupt",
     "evalue": "",
     "output_type": "error",
     "traceback": [
      "\u001b[0;31m---------------------------------------------------------------------------\u001b[0m",
      "\u001b[0;31mKeyboardInterrupt\u001b[0m                         Traceback (most recent call last)",
      "\u001b[1;32m/home/yoonjunheon/git/MPCC/C++/panda_vis.ipynb Cell 2\u001b[0m line \u001b[0;36m6\n\u001b[1;32m      <a href='vscode-notebook-cell:/home/yoonjunheon/git/MPCC/C%2B%2B/panda_vis.ipynb#W1sZmlsZQ%3D%3D?line=3'>4</a>\u001b[0m \u001b[39mfor\u001b[39;00m i \u001b[39min\u001b[39;00m \u001b[39mrange\u001b[39m(q_set\u001b[39m.\u001b[39mshape[\u001b[39m0\u001b[39m]):\n\u001b[1;32m      <a href='vscode-notebook-cell:/home/yoonjunheon/git/MPCC/C%2B%2B/panda_vis.ipynb#W1sZmlsZQ%3D%3D?line=4'>5</a>\u001b[0m     panda\u001b[39m.\u001b[39mq \u001b[39m=\u001b[39m q_set[i,:]\n\u001b[0;32m----> <a href='vscode-notebook-cell:/home/yoonjunheon/git/MPCC/C%2B%2B/panda_vis.ipynb#W1sZmlsZQ%3D%3D?line=5'>6</a>\u001b[0m     env\u001b[39m.\u001b[39;49mstep(dt)\n",
      "File \u001b[0;32m~/.local/lib/python3.8/site-packages/swift/Swift.py:256\u001b[0m, in \u001b[0;36mSwift.step\u001b[0;34m(self, dt, render)\u001b[0m\n\u001b[1;32m    252\u001b[0m \u001b[39mself\u001b[39m\u001b[39m.\u001b[39m_laststep \u001b[39m=\u001b[39m time\u001b[39m.\u001b[39mtime()\n\u001b[1;32m    254\u001b[0m \u001b[39mself\u001b[39m\u001b[39m.\u001b[39m_step_elements()\n\u001b[0;32m--> 256\u001b[0m events \u001b[39m=\u001b[39m \u001b[39mself\u001b[39;49m\u001b[39m.\u001b[39;49m_draw_all()\n\u001b[1;32m    257\u001b[0m \u001b[39m# print(events)\u001b[39;00m\n\u001b[1;32m    258\u001b[0m \n\u001b[1;32m    259\u001b[0m \u001b[39m# Process GUI events\u001b[39;00m\n\u001b[1;32m    260\u001b[0m \u001b[39mself\u001b[39m\u001b[39m.\u001b[39mprocess_events(events)\n",
      "File \u001b[0;32m~/.local/lib/python3.8/site-packages/swift/Swift.py:664\u001b[0m, in \u001b[0;36mSwift._draw_all\u001b[0;34m(self)\u001b[0m\n\u001b[1;32m    653\u001b[0m         \u001b[39melif\u001b[39;00m \u001b[39misinstance\u001b[39m(\u001b[39mself\u001b[39m\u001b[39m.\u001b[39mswift_objects[i], rtb\u001b[39m.\u001b[39mRobot):\n\u001b[1;32m    654\u001b[0m             msg\u001b[39m.\u001b[39mappend(\n\u001b[1;32m    655\u001b[0m                 [\n\u001b[1;32m    656\u001b[0m                     i,\n\u001b[0;32m   (...)\u001b[0m\n\u001b[1;32m    661\u001b[0m                 ]\n\u001b[1;32m    662\u001b[0m             )\n\u001b[0;32m--> 664\u001b[0m events \u001b[39m=\u001b[39m \u001b[39mself\u001b[39;49m\u001b[39m.\u001b[39;49m_send_socket(\u001b[39m\"\u001b[39;49m\u001b[39mshape_poses\u001b[39;49m\u001b[39m\"\u001b[39;49m, msg, \u001b[39mTrue\u001b[39;49;00m)\n\u001b[1;32m    665\u001b[0m \u001b[39mreturn\u001b[39;00m json\u001b[39m.\u001b[39mloads(events)\n",
      "File \u001b[0;32m~/.local/lib/python3.8/site-packages/swift/Swift.py:673\u001b[0m, in \u001b[0;36mSwift._send_socket\u001b[0;34m(self, code, data, expected)\u001b[0m\n\u001b[1;32m    670\u001b[0m \u001b[39mself\u001b[39m\u001b[39m.\u001b[39moutq\u001b[39m.\u001b[39mput(msg)\n\u001b[1;32m    672\u001b[0m \u001b[39mif\u001b[39;00m expected:\n\u001b[0;32m--> 673\u001b[0m     \u001b[39mreturn\u001b[39;00m \u001b[39mself\u001b[39;49m\u001b[39m.\u001b[39;49minq\u001b[39m.\u001b[39;49mget()\n\u001b[1;32m    674\u001b[0m \u001b[39melse\u001b[39;00m:\n\u001b[1;32m    675\u001b[0m     \u001b[39mreturn\u001b[39;00m \u001b[39m\"\u001b[39m\u001b[39m0\u001b[39m\u001b[39m\"\u001b[39m\n",
      "File \u001b[0;32m~/.conda/envs/junheon/lib/python3.8/queue.py:170\u001b[0m, in \u001b[0;36mQueue.get\u001b[0;34m(self, block, timeout)\u001b[0m\n\u001b[1;32m    168\u001b[0m \u001b[39melif\u001b[39;00m timeout \u001b[39mis\u001b[39;00m \u001b[39mNone\u001b[39;00m:\n\u001b[1;32m    169\u001b[0m     \u001b[39mwhile\u001b[39;00m \u001b[39mnot\u001b[39;00m \u001b[39mself\u001b[39m\u001b[39m.\u001b[39m_qsize():\n\u001b[0;32m--> 170\u001b[0m         \u001b[39mself\u001b[39;49m\u001b[39m.\u001b[39;49mnot_empty\u001b[39m.\u001b[39;49mwait()\n\u001b[1;32m    171\u001b[0m \u001b[39melif\u001b[39;00m timeout \u001b[39m<\u001b[39m \u001b[39m0\u001b[39m:\n\u001b[1;32m    172\u001b[0m     \u001b[39mraise\u001b[39;00m \u001b[39mValueError\u001b[39;00m(\u001b[39m\"\u001b[39m\u001b[39m'\u001b[39m\u001b[39mtimeout\u001b[39m\u001b[39m'\u001b[39m\u001b[39m must be a non-negative number\u001b[39m\u001b[39m\"\u001b[39m)\n",
      "File \u001b[0;32m~/.conda/envs/junheon/lib/python3.8/threading.py:302\u001b[0m, in \u001b[0;36mCondition.wait\u001b[0;34m(self, timeout)\u001b[0m\n\u001b[1;32m    300\u001b[0m \u001b[39mtry\u001b[39;00m:    \u001b[39m# restore state no matter what (e.g., KeyboardInterrupt)\u001b[39;00m\n\u001b[1;32m    301\u001b[0m     \u001b[39mif\u001b[39;00m timeout \u001b[39mis\u001b[39;00m \u001b[39mNone\u001b[39;00m:\n\u001b[0;32m--> 302\u001b[0m         waiter\u001b[39m.\u001b[39;49macquire()\n\u001b[1;32m    303\u001b[0m         gotit \u001b[39m=\u001b[39m \u001b[39mTrue\u001b[39;00m\n\u001b[1;32m    304\u001b[0m     \u001b[39melse\u001b[39;00m:\n",
      "\u001b[0;31mKeyboardInterrupt\u001b[0m: "
     ]
    }
   ],
   "source": [
    "q_set = np.loadtxt(\"debug.txt\")\n",
    "print(q_set.shape)\n",
    "\n",
    "for i in range(q_set.shape[0]):\n",
    "    panda.q = q_set[i,:]\n",
    "    env.step(dt)"
   ]
  }
 ],
 "metadata": {
  "kernelspec": {
   "display_name": "Python 3",
   "language": "python",
   "name": "python3"
  },
  "language_info": {
   "codemirror_mode": {
    "name": "ipython",
    "version": 3
   },
   "file_extension": ".py",
   "mimetype": "text/x-python",
   "name": "python",
   "nbconvert_exporter": "python",
   "pygments_lexer": "ipython3",
   "version": "3.8.16"
  }
 },
 "nbformat": 4,
 "nbformat_minor": 2
}
